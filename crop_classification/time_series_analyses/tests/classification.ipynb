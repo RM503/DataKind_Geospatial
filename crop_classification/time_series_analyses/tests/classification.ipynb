{
 "cells": [
  {
   "cell_type": "code",
   "execution_count": 1,
   "metadata": {},
   "outputs": [],
   "source": [
    "import pandas as pd\n",
    "import numpy as np\n",
    "from sktime.datatypes import check_is_scitype\n",
    "from sklearn.base import BaseEstimator, TransformerMixin\n",
    "from sklearn.preprocessing import (\n",
    "    MinMaxScaler,\n",
    "    StandardScaler,\n",
    "    RobustScaler\n",
    ")\n",
    "from sktime.transformations.panel.catch22 import Catch22\n",
    "from sklearn.impute import SimpleImputer\n",
    "from sklearn.model_selection import StratifiedKFold\n",
    "from sklearn.pipeline import Pipeline\n",
    "from sklearn.svm import LinearSVC\n",
    "from sklearn.tree import DecisionTreeClassifier\n",
    "from sklearn.ensemble import RandomForestClassifier\n",
    "from sklearn.metrics import accuracy_score"
   ]
  },
  {
   "cell_type": "code",
   "execution_count": 2,
   "metadata": {},
   "outputs": [],
   "source": [
    "def transform_data(df: pd.DataFrame, df_label: pd.DataFrame) -> pd.DataFrame:\n",
    "    if \"Unnamed: 0\" in df.columns:\n",
    "        df.drop(columns=[\"Unnamed: 0\"], inplace=True)\n",
    "\n",
    "    # Labeled data does not contain two cases\n",
    "    missing_uuid = list(set(df[\"uuid\"].unique()) - set(df_label[\"uuid\"].unique()))\n",
    "\n",
    "    df = df[~df[\"uuid\"].isin(missing_uuid)]\n",
    "\n",
    "    # Transform data into sktime scitype and check\n",
    "    df_transformed = df.set_index([\"uuid\", \"date\"])[[\"ndvi\"]]\n",
    "    return df_transformed\n",
    "\n",
    "def train_clf(\n",
    "        df_transformed: pd.DataFrame,\n",
    "        df_label: pd.DataFrame,\n",
    "        scaler: TransformerMixin,\n",
    "        clf: BaseEstimator\n",
    "):\n",
    "    if \"Unnamed: 0\" in df_label.columns:\n",
    "        df_label = df_label.drop(columns=[\"Unnamed: 0\"])\n",
    "\n",
    "    # Create integer categories\n",
    "    df_label[\"class_encoded\"] = df_label[\"class\"].astype(\"category\").cat.codes \n",
    "    uuids = df_label[\"uuid\"].values\n",
    "    labels = df_label[\"class_encoded\"].values\n",
    "\n",
    "    \"\"\" \n",
    "    Here, k-fold cross-validation is performed on the time-series data features\n",
    "    extracted using Catch22. The transformations are chained using a `Pipeline`\n",
    "    object to ensure that data leakage does not occur due to incorrect fits and\n",
    "    transforms.\n",
    "    \"\"\"\n",
    "    train_scores = []\n",
    "    val_scores = []\n",
    "\n",
    "    SKF = StratifiedKFold(n_splits=5, shuffle=True, random_state=42)\n",
    "\n",
    "    for fold, (train_idx, val_idx) in enumerate(SKF.split(uuids, labels)):\n",
    "        print(f\"Stratified k-fold cross-validation, fold {fold + 1}\")\n",
    "\n",
    "        train_ids = uuids[train_idx]\n",
    "        val_ids = uuids[val_idx]\n",
    "\n",
    "        # Filtering the multi-index dataframe\n",
    "        X_train = df_transformed.loc[\n",
    "            df_transformed.index.get_level_values(\"uuid\").isin(train_ids)\n",
    "        ]\n",
    "\n",
    "        X_val = df_transformed.loc[\n",
    "            df_transformed.index.get_level_values(\"uuid\").isin(val_ids)\n",
    "        ]\n",
    "\n",
    "        y_train = df_label.loc[df_label[\"uuid\"].isin(train_ids), \"class_encoded\"]\n",
    "        y_val = df_label.loc[df_label[\"uuid\"].isin(val_ids), \"class_encoded\"]\n",
    "\n",
    "        # Create a pipeline for performing Catch22 feature extraction and feature scaling\n",
    "        p = Pipeline(\n",
    "            [\n",
    "                (\"catch22\", Catch22(catch24=True)),\n",
    "                (\"scaler\", scaler())\n",
    "            ]\n",
    "        )\n",
    "\n",
    "        # Only apply transform() on validation data to prevent data leakage\n",
    "        X_train = p.fit_transform(X_train)\n",
    "        X_val = p.transform(X_val)\n",
    "\n",
    "        # There may be NaN columns; we remove any such column where all values as NaN\n",
    "\n",
    "        nan_cols = np.where(np.all(np.isnan(X_train), axis=0))[0]\n",
    "\n",
    "        if len(nan_cols) > 0:\n",
    "            print(f\"There are {len(nan_cols)} columns with all NaN; removing them\")\n",
    "            X_train = np.delete(X_train, nan_cols, axis=1)\n",
    "            X_val = np.delete(X_val, nan_cols, axis=1)\n",
    "\n",
    "        impute = SimpleImputer(strategy=\"mean\")\n",
    "        X_train_imputed = impute.fit_transform(X_train)\n",
    "        X_val_imputed = impute.transform(X_val)\n",
    "\n",
    "        # Fitting the classifier to the training data and labels\n",
    "        clf.fit(X_train_imputed, y_train)\n",
    "\n",
    "        y_train_preds = clf.predict(X_train_imputed)\n",
    "        y_val_preds = clf.predict(X_val_imputed)\n",
    "\n",
    "        train_accuracy = accuracy_score(y_train, y_train_preds)\n",
    "        print(f\"Training accuracy in fold {fold+1}: {train_accuracy}\")\n",
    "\n",
    "        val_accuracy = accuracy_score(y_val, y_val_preds)\n",
    "        print(f\"Validation accuracy in fold {fold+1}: {val_accuracy}\")\n",
    "\n",
    "        train_scores.append(train_accuracy)\n",
    "        val_scores.append(val_accuracy)\n",
    "\n",
    "    train_scores_mean = np.mean(train_scores)\n",
    "    val_scores_mean = np.mean(val_scores)\n",
    "\n",
    "    return train_scores_mean, val_scores_mean"
   ]
  },
  {
   "cell_type": "code",
   "execution_count": 30,
   "metadata": {},
   "outputs": [
    {
     "name": "stdout",
     "output_type": "stream",
     "text": [
      "Stratified k-fold cross-validation, fold 1\n"
     ]
    },
    {
     "name": "stderr",
     "output_type": "stream",
     "text": [
      "/Users/rafidmahbub/Desktop/DataKind_Geospatial/env/lib/python3.11/site-packages/numpy/lib/nanfunctions.py:1095: RuntimeWarning: All-NaN slice encountered\n",
      "  result = np.apply_along_axis(_nanmedian1d, axis, a, overwrite_input)\n",
      "/Users/rafidmahbub/Desktop/DataKind_Geospatial/env/lib/python3.11/site-packages/numpy/lib/nanfunctions.py:1556: RuntimeWarning: All-NaN slice encountered\n",
      "  return function_base._ureduce(a,\n"
     ]
    },
    {
     "name": "stdout",
     "output_type": "stream",
     "text": [
      "There are 1 columns with all NaN; removing them\n",
      "Training accuracy in fold 1: 0.9324866310160428\n",
      "Validation accuracy in fold 1: 0.8074866310160428\n",
      "Stratified k-fold cross-validation, fold 2\n"
     ]
    },
    {
     "name": "stderr",
     "output_type": "stream",
     "text": [
      "/Users/rafidmahbub/Desktop/DataKind_Geospatial/env/lib/python3.11/site-packages/numpy/lib/nanfunctions.py:1095: RuntimeWarning: All-NaN slice encountered\n",
      "  result = np.apply_along_axis(_nanmedian1d, axis, a, overwrite_input)\n",
      "/Users/rafidmahbub/Desktop/DataKind_Geospatial/env/lib/python3.11/site-packages/numpy/lib/nanfunctions.py:1556: RuntimeWarning: All-NaN slice encountered\n",
      "  return function_base._ureduce(a,\n"
     ]
    },
    {
     "name": "stdout",
     "output_type": "stream",
     "text": [
      "There are 1 columns with all NaN; removing them\n",
      "Training accuracy in fold 2: 0.93048128342246\n",
      "Validation accuracy in fold 2: 0.7379679144385026\n",
      "Stratified k-fold cross-validation, fold 3\n"
     ]
    },
    {
     "name": "stderr",
     "output_type": "stream",
     "text": [
      "/Users/rafidmahbub/Desktop/DataKind_Geospatial/env/lib/python3.11/site-packages/numpy/lib/nanfunctions.py:1095: RuntimeWarning: All-NaN slice encountered\n",
      "  result = np.apply_along_axis(_nanmedian1d, axis, a, overwrite_input)\n",
      "/Users/rafidmahbub/Desktop/DataKind_Geospatial/env/lib/python3.11/site-packages/numpy/lib/nanfunctions.py:1556: RuntimeWarning: All-NaN slice encountered\n",
      "  return function_base._ureduce(a,\n"
     ]
    },
    {
     "name": "stdout",
     "output_type": "stream",
     "text": [
      "There are 1 columns with all NaN; removing them\n",
      "Training accuracy in fold 3: 0.9318181818181818\n",
      "Validation accuracy in fold 3: 0.8048128342245989\n",
      "Stratified k-fold cross-validation, fold 4\n"
     ]
    },
    {
     "name": "stderr",
     "output_type": "stream",
     "text": [
      "/Users/rafidmahbub/Desktop/DataKind_Geospatial/env/lib/python3.11/site-packages/numpy/lib/nanfunctions.py:1095: RuntimeWarning: All-NaN slice encountered\n",
      "  result = np.apply_along_axis(_nanmedian1d, axis, a, overwrite_input)\n",
      "/Users/rafidmahbub/Desktop/DataKind_Geospatial/env/lib/python3.11/site-packages/numpy/lib/nanfunctions.py:1556: RuntimeWarning: All-NaN slice encountered\n",
      "  return function_base._ureduce(a,\n"
     ]
    },
    {
     "name": "stdout",
     "output_type": "stream",
     "text": [
      "There are 1 columns with all NaN; removing them\n",
      "Training accuracy in fold 4: 0.9318181818181818\n",
      "Validation accuracy in fold 4: 0.7620320855614974\n",
      "Stratified k-fold cross-validation, fold 5\n"
     ]
    },
    {
     "name": "stderr",
     "output_type": "stream",
     "text": [
      "/Users/rafidmahbub/Desktop/DataKind_Geospatial/env/lib/python3.11/site-packages/numpy/lib/nanfunctions.py:1095: RuntimeWarning: All-NaN slice encountered\n",
      "  result = np.apply_along_axis(_nanmedian1d, axis, a, overwrite_input)\n",
      "/Users/rafidmahbub/Desktop/DataKind_Geospatial/env/lib/python3.11/site-packages/numpy/lib/nanfunctions.py:1556: RuntimeWarning: All-NaN slice encountered\n",
      "  return function_base._ureduce(a,\n"
     ]
    },
    {
     "name": "stdout",
     "output_type": "stream",
     "text": [
      "There are 1 columns with all NaN; removing them\n",
      "Training accuracy in fold 5: 0.9344919786096256\n",
      "Validation accuracy in fold 5: 0.8048128342245989\n"
     ]
    }
   ],
   "source": [
    "DATA_PATH = \"/Users/rafidmahbub/Desktop/DataKind_Geospatial/crop_classification/time_series_analyses/tests/df_clean.csv\"\n",
    "LABEL_PATH = \"/Users/rafidmahbub/Desktop/DataKind_Geospatial/crop_classification/time_series_analyses/ndvi_series_labeled/Trans_Nzoia_1_tile_0_NDVI_labels.csv\"\n",
    "\n",
    "df = pd.read_csv(DATA_PATH)\n",
    "df[\"date\"] = pd.to_datetime(df[\"date\"])\n",
    "df_label = pd.read_csv(LABEL_PATH)\n",
    "\n",
    "df_transformed = transform_data(df, df_label)\n",
    "\n",
    "scaler = RobustScaler\n",
    "\n",
    "clf = RandomForestClassifier(\n",
    "    n_estimators=150, \n",
    "    criterion=\"log_loss\",\n",
    "    max_depth=15, \n",
    "    min_samples_leaf=5,\n",
    "    max_features=None\n",
    ")\n",
    "\n",
    "train_scores_mean, val_scores_mean = train_clf(\n",
    "        df_transformed,\n",
    "        df_label,\n",
    "        scaler,\n",
    "        clf\n",
    "    )"
   ]
  },
  {
   "cell_type": "code",
   "execution_count": 31,
   "metadata": {},
   "outputs": [
    {
     "data": {
      "text/plain": [
       "0.7834224598930482"
      ]
     },
     "execution_count": 31,
     "metadata": {},
     "output_type": "execute_result"
    }
   ],
   "source": [
    "val_scores_mean"
   ]
  },
  {
   "cell_type": "code",
   "execution_count": null,
   "metadata": {},
   "outputs": [],
   "source": []
  }
 ],
 "metadata": {
  "kernelspec": {
   "display_name": "env",
   "language": "python",
   "name": "python3"
  },
  "language_info": {
   "codemirror_mode": {
    "name": "ipython",
    "version": 3
   },
   "file_extension": ".py",
   "mimetype": "text/x-python",
   "name": "python",
   "nbconvert_exporter": "python",
   "pygments_lexer": "ipython3",
   "version": "3.11.8"
  }
 },
 "nbformat": 4,
 "nbformat_minor": 2
}
