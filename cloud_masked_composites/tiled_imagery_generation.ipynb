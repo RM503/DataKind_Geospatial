{
 "cells": [
  {
   "cell_type": "markdown",
   "metadata": {},
   "source": [
    "# Tiling Sentinel-2 imagery using covering grids\n",
    "\n",
    "For SamGeo to be able to work effective, it might be worthwhile to tile the different regions using covering grids and generating GeoTIFFs for each subsection. Using smaller tiles might enable SamGeo to be more effective at segmenting field boundaries, while also making visual inspections easier. "
   ]
  },
  {
   "cell_type": "code",
   "execution_count": 1,
   "metadata": {},
   "outputs": [],
   "source": [
    "import os\n",
    "import sys \n",
    "sys.path.insert(1, '/Users/rafidmahbub/Desktop/DataKind_Geospatial')\n",
    "import config\n",
    "from google.cloud import storage\n",
    "import ee\n",
    "from s2cloudless import s2cloudless\n",
    "from imagery_generation import (\n",
    "    get_ndvi,\n",
    "    get_evi,\n",
    "    spectral_transform\n",
    ")\n",
    "import geemap "
   ]
  },
  {
   "cell_type": "markdown",
   "metadata": {},
   "source": [
    "## Initialize Google Earth Engine and Cloud Storage"
   ]
  },
  {
   "cell_type": "code",
   "execution_count": 2,
   "metadata": {},
   "outputs": [
    {
     "data": {
      "text/html": [
       "\n",
       "            <style>\n",
       "                .geemap-dark {\n",
       "                    --jp-widgets-color: white;\n",
       "                    --jp-widgets-label-color: white;\n",
       "                    --jp-ui-font-color1: white;\n",
       "                    --jp-layout-color2: #454545;\n",
       "                    background-color: #383838;\n",
       "                }\n",
       "\n",
       "                .geemap-dark .jupyter-button {\n",
       "                    --jp-layout-color3: #383838;\n",
       "                }\n",
       "\n",
       "                .geemap-colab {\n",
       "                    background-color: var(--colab-primary-surface-color, white);\n",
       "                }\n",
       "\n",
       "                .geemap-colab .jupyter-button {\n",
       "                    --jp-layout-color3: var(--colab-primary-surface-color, white);\n",
       "                }\n",
       "            </style>\n",
       "            "
      ],
      "text/plain": [
       "<IPython.core.display.HTML object>"
      ]
     },
     "metadata": {},
     "output_type": "display_data"
    }
   ],
   "source": [
    "ee.Authenticate()\n",
    "ee.Initialize(project=config.gee_project)"
   ]
  },
  {
   "cell_type": "code",
   "execution_count": 3,
   "metadata": {},
   "outputs": [
    {
     "data": {
      "text/html": [
       "\n",
       "            <style>\n",
       "                .geemap-dark {\n",
       "                    --jp-widgets-color: white;\n",
       "                    --jp-widgets-label-color: white;\n",
       "                    --jp-ui-font-color1: white;\n",
       "                    --jp-layout-color2: #454545;\n",
       "                    background-color: #383838;\n",
       "                }\n",
       "\n",
       "                .geemap-dark .jupyter-button {\n",
       "                    --jp-layout-color3: #383838;\n",
       "                }\n",
       "\n",
       "                .geemap-colab {\n",
       "                    background-color: var(--colab-primary-surface-color, white);\n",
       "                }\n",
       "\n",
       "                .geemap-colab .jupyter-button {\n",
       "                    --jp-layout-color3: var(--colab-primary-surface-color, white);\n",
       "                }\n",
       "            </style>\n",
       "            "
      ],
      "text/plain": [
       "<IPython.core.display.HTML object>"
      ]
     },
     "metadata": {},
     "output_type": "display_data"
    }
   ],
   "source": [
    "os.environ['GOOGLE_APPLICATION_CREDENTIALS'] = './../service_key_gcp.json'\n",
    "storage_client = storage.Client()"
   ]
  },
  {
   "cell_type": "markdown",
   "metadata": {},
   "source": [
    "## Create covering grids\n",
    "\n",
    "For the purposes of tiling, we use the `coveringGrid()` method on `roi`. For example, here we create a $5 \\times 5$ grid around the distributor location in Kitale."
   ]
  },
  {
   "cell_type": "code",
   "execution_count": 3,
   "metadata": {},
   "outputs": [
    {
     "data": {
      "text/html": [
       "\n",
       "            <style>\n",
       "                .geemap-dark {\n",
       "                    --jp-widgets-color: white;\n",
       "                    --jp-widgets-label-color: white;\n",
       "                    --jp-ui-font-color1: white;\n",
       "                    --jp-layout-color2: #454545;\n",
       "                    background-color: #383838;\n",
       "                }\n",
       "\n",
       "                .geemap-dark .jupyter-button {\n",
       "                    --jp-layout-color3: #383838;\n",
       "                }\n",
       "\n",
       "                .geemap-colab {\n",
       "                    background-color: var(--colab-primary-surface-color, white);\n",
       "                }\n",
       "\n",
       "                .geemap-colab .jupyter-button {\n",
       "                    --jp-layout-color3: var(--colab-primary-surface-color, white);\n",
       "                }\n",
       "            </style>\n",
       "            "
      ],
      "text/plain": [
       "<IPython.core.display.HTML object>"
      ]
     },
     "metadata": {},
     "output_type": "display_data"
    },
    {
     "data": {
      "application/vnd.jupyter.widget-view+json": {
       "model_id": "f3148d27d9e145a39412b6ab8e3ec86b",
       "version_major": 2,
       "version_minor": 0
      },
      "text/plain": [
       "Map(center=[-2.1, 37.13], controls=(WidgetControl(options=['position', 'transparent_bg'], widget=SearchDataGUI…"
      ]
     },
     "execution_count": 3,
     "metadata": {},
     "output_type": "execute_result"
    }
   ],
   "source": [
    "coords = ee.Geometry.Point([37.13,-2.1])\n",
    "roi = coords.buffer(1e4).bounds()\n",
    "grid = roi.coveringGrid('EPSG:4326', 4500) # covering grid around RoI with sides of 5 km\n",
    "\n",
    "m = geemap.Map(center=(-2.1,37.13), zoom=12)\n",
    "m.add_basemap('HYBRID')\n",
    "m.add_layer(grid)\n",
    "m"
   ]
  },
  {
   "cell_type": "markdown",
   "metadata": {},
   "source": [
    "We can modify previous functions for use in image generation. For generating tile images for all distributor locations, we require two loops - \n",
    "* the first one loops over the tiles in the covering grid\n",
    "* the second one loops over each coordinate location"
   ]
  },
  {
   "cell_type": "code",
   "execution_count": 24,
   "metadata": {},
   "outputs": [
    {
     "data": {
      "text/html": [
       "\n",
       "            <style>\n",
       "                .geemap-dark {\n",
       "                    --jp-widgets-color: white;\n",
       "                    --jp-widgets-label-color: white;\n",
       "                    --jp-ui-font-color1: white;\n",
       "                    --jp-layout-color2: #454545;\n",
       "                    background-color: #383838;\n",
       "                }\n",
       "\n",
       "                .geemap-dark .jupyter-button {\n",
       "                    --jp-layout-color3: #383838;\n",
       "                }\n",
       "\n",
       "                .geemap-colab {\n",
       "                    background-color: var(--colab-primary-surface-color, white);\n",
       "                }\n",
       "\n",
       "                .geemap-colab .jupyter-button {\n",
       "                    --jp-layout-color3: var(--colab-primary-surface-color, white);\n",
       "                }\n",
       "            </style>\n",
       "            "
      ],
      "text/plain": [
       "<IPython.core.display.HTML object>"
      ]
     },
     "metadata": {},
     "output_type": "display_data"
    }
   ],
   "source": [
    "def generate_image_tiles(covering_grid: ee.FeatureCollection, img_type='rgb') -> ee.ImageCollection:\n",
    "    ''' \n",
    "    This function converts an RoI defined by a covering grid of a consisting tiles of a particular size\n",
    "    and converts them into a series of images in a collection.\n",
    "\n",
    "    Args: (i) covering_grid - ee.FeatureCollection consisting of rectangles spanning the grid\n",
    "          (ii) img_type -  argument for the type of image required; img_type can be `rgb`, `false`, `ndvi` and `evi`;\n",
    "                           defaults to `rgb`\n",
    "    Returns: ee.ImageCollection() object containing imagery contained within the tiles\n",
    "    '''\n",
    "    img_collection = [] # initialize an empty list to store images\n",
    "    N = covering_grid.size().getInfo()\n",
    "\n",
    "    for i in range(N):\n",
    "        tile = covering_grid.getInfo()['features'][i]['geometry']['coordinates']\n",
    "        tile_AOI = ee.Geometry.Polygon(tile)\n",
    "\n",
    "        s2_sr_median = s2cloudless(tile_AOI)\n",
    "        \n",
    "        if img_type == 'rgb':\n",
    "            band_list = ['B4', 'B3', 'B2'] # true color band list\n",
    "            rgb_img = s2_sr_median.select(band_list)\n",
    "            img_collection.append(rgb_img)\n",
    "\n",
    "        elif img_type == 'false':\n",
    "            band_list = ['B8', 'B4', 'B3'] # false color band list\n",
    "            false_img = s2_sr_median.select(band_list)\n",
    "            img_collection.append(s2_sr_median.select(false_img))\n",
    "\n",
    "        elif img_type == 'ndvi':\n",
    "            ndvi_img = get_ndvi(s2_sr_median).select('NDVI')\n",
    "            img_collection.append(ndvi_img)\n",
    "\n",
    "        elif img_type == 'hsv-NDVI':\n",
    "            hsv_img = spectral_transform(s2_sr_median, 'NDVI')\n",
    "            img_collection.append(hsv_img)\n",
    "\n",
    "        elif img_type == 'hsv-EVI':\n",
    "            hsv_img = spectral_transform(s2_sr_median, 'EVI')\n",
    "            img_collection.append(hsv_img)\n",
    "\n",
    "        else:\n",
    "            raise ValueError(f'Unsupported image type: {img_type}')\n",
    "        \n",
    "    return ee.ImageCollection(img_collection)"
   ]
  },
  {
   "cell_type": "code",
   "execution_count": 25,
   "metadata": {},
   "outputs": [
    {
     "data": {
      "text/html": [
       "\n",
       "            <style>\n",
       "                .geemap-dark {\n",
       "                    --jp-widgets-color: white;\n",
       "                    --jp-widgets-label-color: white;\n",
       "                    --jp-ui-font-color1: white;\n",
       "                    --jp-layout-color2: #454545;\n",
       "                    background-color: #383838;\n",
       "                }\n",
       "\n",
       "                .geemap-dark .jupyter-button {\n",
       "                    --jp-layout-color3: #383838;\n",
       "                }\n",
       "\n",
       "                .geemap-colab {\n",
       "                    background-color: var(--colab-primary-surface-color, white);\n",
       "                }\n",
       "\n",
       "                .geemap-colab .jupyter-button {\n",
       "                    --jp-layout-color3: var(--colab-primary-surface-color, white);\n",
       "                }\n",
       "            </style>\n",
       "            "
      ],
      "text/plain": [
       "<IPython.core.display.HTML object>"
      ]
     },
     "metadata": {},
     "output_type": "display_data"
    }
   ],
   "source": [
    "hsv_img_col = generate_image_tiles(grid, img_type='hsv-EVI')"
   ]
  },
  {
   "cell_type": "code",
   "execution_count": 35,
   "metadata": {},
   "outputs": [
    {
     "data": {
      "text/html": [
       "\n",
       "            <style>\n",
       "                .geemap-dark {\n",
       "                    --jp-widgets-color: white;\n",
       "                    --jp-widgets-label-color: white;\n",
       "                    --jp-ui-font-color1: white;\n",
       "                    --jp-layout-color2: #454545;\n",
       "                    background-color: #383838;\n",
       "                }\n",
       "\n",
       "                .geemap-dark .jupyter-button {\n",
       "                    --jp-layout-color3: #383838;\n",
       "                }\n",
       "\n",
       "                .geemap-colab {\n",
       "                    background-color: var(--colab-primary-surface-color, white);\n",
       "                }\n",
       "\n",
       "                .geemap-colab .jupyter-button {\n",
       "                    --jp-layout-color3: var(--colab-primary-surface-color, white);\n",
       "                }\n",
       "            </style>\n",
       "            "
      ],
      "text/plain": [
       "<IPython.core.display.HTML object>"
      ]
     },
     "metadata": {},
     "output_type": "display_data"
    }
   ],
   "source": [
    "N = hsv_img_col.size().getInfo()\n",
    "hsv_img_list = hsv_img_col.toList(N)\n",
    "\n",
    "vis_params = {'min': 0, 'max': 1.0}\n",
    "\n",
    "for i in range(N):\n",
    "    hsv_img = ee.Image(hsv_img_list.get(i))\n",
    "    coords = grid.getInfo()['features'][i]['geometry']['coordinates']\n",
    "\n",
    "    hsv_img_vis = hsv_img.visualize(**vis_params)\n",
    "    export_params = {\n",
    "            'image': hsv_img_vis,\n",
    "            'description': 'tile_' + str(i),\n",
    "            'folder': 'image_tiles',\n",
    "            'crs': 'EPSG:4326',\n",
    "            'fileFormat': 'GeoTIFF',\n",
    "            'scale': 10,\n",
    "            'region': coords,\n",
    "            'maxPixels' : 1e9\n",
    "        }\n",
    "    task = ee.batch.Export.image.toDrive(**export_params)\n",
    "    task.start()"
   ]
  },
  {
   "cell_type": "code",
   "execution_count": null,
   "metadata": {},
   "outputs": [],
   "source": []
  }
 ],
 "metadata": {
  "kernelspec": {
   "display_name": "env",
   "language": "python",
   "name": "python3"
  },
  "language_info": {
   "codemirror_mode": {
    "name": "ipython",
    "version": 3
   },
   "file_extension": ".py",
   "mimetype": "text/x-python",
   "name": "python",
   "nbconvert_exporter": "python",
   "pygments_lexer": "ipython3",
   "version": "3.11.8"
  }
 },
 "nbformat": 4,
 "nbformat_minor": 2
}
