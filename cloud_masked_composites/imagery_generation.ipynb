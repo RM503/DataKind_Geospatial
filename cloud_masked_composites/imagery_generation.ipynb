{
 "cells": [
  {
   "cell_type": "markdown",
   "metadata": {},
   "source": [
    "# Sentinel-2 imagery generation\n",
    "\n",
    "Here we automate the generation of Sentinel-2 imagery around the different priority distributor locations. The distributor locations have been geocoded using the addresses. Hence, some might have incorrect coordinates. We consider a buffer of radius $10$ km around each distributor location and convert them into approximate rectangular regions. Cloud-masking is performed on these regions, which are then exported."
   ]
  },
  {
   "cell_type": "code",
   "execution_count": 16,
   "metadata": {},
   "outputs": [
    {
     "data": {
      "text/html": [
       "\n",
       "            <style>\n",
       "                .geemap-dark {\n",
       "                    --jp-widgets-color: white;\n",
       "                    --jp-widgets-label-color: white;\n",
       "                    --jp-ui-font-color1: white;\n",
       "                    --jp-layout-color2: #454545;\n",
       "                    background-color: #383838;\n",
       "                }\n",
       "\n",
       "                .geemap-dark .jupyter-button {\n",
       "                    --jp-layout-color3: #383838;\n",
       "                }\n",
       "\n",
       "                .geemap-colab {\n",
       "                    background-color: var(--colab-primary-surface-color, white);\n",
       "                }\n",
       "\n",
       "                .geemap-colab .jupyter-button {\n",
       "                    --jp-layout-color3: var(--colab-primary-surface-color, white);\n",
       "                }\n",
       "            </style>\n",
       "            "
      ],
      "text/plain": [
       "<IPython.core.display.HTML object>"
      ]
     },
     "metadata": {},
     "output_type": "display_data"
    }
   ],
   "source": [
    "import sys \n",
    "sys.path.insert(1, '/Users/rafidmahbub/Desktop/DataKind_Geospatial')\n",
    "import config\n",
    "import pandas as pd \n",
    "import geopandas as gpd\n",
    "import plotly.express as px\n",
    "import ee\n",
    "from s2cloudless import s2cloudless\n",
    "import geemap "
   ]
  },
  {
   "cell_type": "code",
   "execution_count": 19,
   "metadata": {},
   "outputs": [
    {
     "data": {
      "text/html": [
       "\n",
       "            <style>\n",
       "                .geemap-dark {\n",
       "                    --jp-widgets-color: white;\n",
       "                    --jp-widgets-label-color: white;\n",
       "                    --jp-ui-font-color1: white;\n",
       "                    --jp-layout-color2: #454545;\n",
       "                    background-color: #383838;\n",
       "                }\n",
       "\n",
       "                .geemap-dark .jupyter-button {\n",
       "                    --jp-layout-color3: #383838;\n",
       "                }\n",
       "\n",
       "                .geemap-colab {\n",
       "                    background-color: var(--colab-primary-surface-color, white);\n",
       "                }\n",
       "\n",
       "                .geemap-colab .jupyter-button {\n",
       "                    --jp-layout-color3: var(--colab-primary-surface-color, white);\n",
       "                }\n",
       "            </style>\n",
       "            "
      ],
      "text/plain": [
       "<IPython.core.display.HTML object>"
      ]
     },
     "metadata": {},
     "output_type": "display_data"
    },
    {
     "data": {
      "text/html": [
       "<p>To authorize access needed by Earth Engine, open the following\n",
       "        URL in a web browser and follow the instructions:</p>\n",
       "        <p><a href=https://code.earthengine.google.com/client-auth?scopes=https%3A//www.googleapis.com/auth/earthengine%20https%3A//www.googleapis.com/auth/cloud-platform%20https%3A//www.googleapis.com/auth/devstorage.full_control&request_id=kmct1EsAVUZj7nWA1hZeHp8bK-_Rv9ht26ojqIoVzgo&tc=fICyN-xkadKUjLaLves8jaWzrngFl9PGGa84EmXXJMw&cc=6C-N8VeF_5CE2Bgf2KouoI5BPIjr7W20LlpAguZrpZ4>https://code.earthengine.google.com/client-auth?scopes=https%3A//www.googleapis.com/auth/earthengine%20https%3A//www.googleapis.com/auth/cloud-platform%20https%3A//www.googleapis.com/auth/devstorage.full_control&request_id=kmct1EsAVUZj7nWA1hZeHp8bK-_Rv9ht26ojqIoVzgo&tc=fICyN-xkadKUjLaLves8jaWzrngFl9PGGa84EmXXJMw&cc=6C-N8VeF_5CE2Bgf2KouoI5BPIjr7W20LlpAguZrpZ4</a></p>\n",
       "        <p>The authorization workflow will generate a code, which you should paste in the box below.</p>\n",
       "        "
      ],
      "text/plain": [
       "<IPython.core.display.HTML object>"
      ]
     },
     "metadata": {},
     "output_type": "display_data"
    },
    {
     "name": "stdout",
     "output_type": "stream",
     "text": [
      "\n",
      "Successfully saved authorization token.\n"
     ]
    }
   ],
   "source": [
    "ee.Authenticate()\n",
    "ee.Initialize(project=config.gee_project)"
   ]
  },
  {
   "cell_type": "markdown",
   "metadata": {},
   "source": [
    "## Read geocoded distributor file\n",
    "\n",
    "Reading the priority distributor geocoding file."
   ]
  },
  {
   "cell_type": "code",
   "execution_count": 20,
   "metadata": {},
   "outputs": [
    {
     "data": {
      "text/html": [
       "\n",
       "            <style>\n",
       "                .geemap-dark {\n",
       "                    --jp-widgets-color: white;\n",
       "                    --jp-widgets-label-color: white;\n",
       "                    --jp-ui-font-color1: white;\n",
       "                    --jp-layout-color2: #454545;\n",
       "                    background-color: #383838;\n",
       "                }\n",
       "\n",
       "                .geemap-dark .jupyter-button {\n",
       "                    --jp-layout-color3: #383838;\n",
       "                }\n",
       "\n",
       "                .geemap-colab {\n",
       "                    background-color: var(--colab-primary-surface-color, white);\n",
       "                }\n",
       "\n",
       "                .geemap-colab .jupyter-button {\n",
       "                    --jp-layout-color3: var(--colab-primary-surface-color, white);\n",
       "                }\n",
       "            </style>\n",
       "            "
      ],
      "text/plain": [
       "<IPython.core.display.HTML object>"
      ]
     },
     "metadata": {},
     "output_type": "display_data"
    }
   ],
   "source": [
    "gdf = gpd.read_file('./../geocoding/distributor_locations_priority_geocoded.json')"
   ]
  },
  {
   "cell_type": "code",
   "execution_count": 4,
   "metadata": {},
   "outputs": [
    {
     "data": {
      "text/html": [
       "\n",
       "            <style>\n",
       "                .geemap-dark {\n",
       "                    --jp-widgets-color: white;\n",
       "                    --jp-widgets-label-color: white;\n",
       "                    --jp-ui-font-color1: white;\n",
       "                    --jp-layout-color2: #454545;\n",
       "                    background-color: #383838;\n",
       "                }\n",
       "\n",
       "                .geemap-dark .jupyter-button {\n",
       "                    --jp-layout-color3: #383838;\n",
       "                }\n",
       "\n",
       "                .geemap-colab {\n",
       "                    background-color: var(--colab-primary-surface-color, white);\n",
       "                }\n",
       "\n",
       "                .geemap-colab .jupyter-button {\n",
       "                    --jp-layout-color3: var(--colab-primary-surface-color, white);\n",
       "                }\n",
       "            </style>\n",
       "            "
      ],
      "text/plain": [
       "<IPython.core.display.HTML object>"
      ]
     },
     "metadata": {},
     "output_type": "display_data"
    },
    {
     "data": {
      "text/html": [
       "<div>\n",
       "<style scoped>\n",
       "    .dataframe tbody tr th:only-of-type {\n",
       "        vertical-align: middle;\n",
       "    }\n",
       "\n",
       "    .dataframe tbody tr th {\n",
       "        vertical-align: top;\n",
       "    }\n",
       "\n",
       "    .dataframe thead th {\n",
       "        text-align: right;\n",
       "    }\n",
       "</style>\n",
       "<table border=\"1\" class=\"dataframe\">\n",
       "  <thead>\n",
       "    <tr style=\"text-align: right;\">\n",
       "      <th></th>\n",
       "      <th>#</th>\n",
       "      <th>Distributors</th>\n",
       "      <th>County</th>\n",
       "      <th>Category</th>\n",
       "      <th>Agrodealers Potential for Commercial Farms</th>\n",
       "      <th>Locations</th>\n",
       "      <th>Locations_cleaned</th>\n",
       "      <th>Longitude</th>\n",
       "      <th>Latitude</th>\n",
       "      <th>geometry</th>\n",
       "    </tr>\n",
       "  </thead>\n",
       "  <tbody>\n",
       "    <tr>\n",
       "      <th>0</th>\n",
       "      <td>1</td>\n",
       "      <td>Plum Pharmacy Limited</td>\n",
       "      <td>Machakos</td>\n",
       "      <td>Category A</td>\n",
       "      <td>High</td>\n",
       "      <td>VG4W+76G A3 Matuu Kenya</td>\n",
       "      <td>VG4W+76G A3 Matuu Kenya</td>\n",
       "      <td>37.548118</td>\n",
       "      <td>-1.144339</td>\n",
       "      <td>POINT (37.54812 -1.14434)</td>\n",
       "    </tr>\n",
       "    <tr>\n",
       "      <th>1</th>\n",
       "      <td>2</td>\n",
       "      <td>Mwangaza</td>\n",
       "      <td>Mashuru</td>\n",
       "      <td>Category A</td>\n",
       "      <td>Medium</td>\n",
       "      <td>V4WH+FQP Selengei</td>\n",
       "      <td>V4WH+FQP Selengei  , Kenya</td>\n",
       "      <td>37.129453</td>\n",
       "      <td>-2.103788</td>\n",
       "      <td>POINT (37.12945 -2.10379)</td>\n",
       "    </tr>\n",
       "    <tr>\n",
       "      <th>2</th>\n",
       "      <td>3</td>\n",
       "      <td>CHEP CHEP FARMERS AGROVET</td>\n",
       "      <td>Nakuru</td>\n",
       "      <td>Category A</td>\n",
       "      <td>High</td>\n",
       "      <td>CM6P+98Q Olenguruone Kenya</td>\n",
       "      <td>CM6P+98Q Olenguruone Kenya</td>\n",
       "      <td>35.685859</td>\n",
       "      <td>-0.589037</td>\n",
       "      <td>POINT (35.68586 -0.58904)</td>\n",
       "    </tr>\n",
       "    <tr>\n",
       "      <th>3</th>\n",
       "      <td>4</td>\n",
       "      <td>DAMCHEM STORES-KIMANA</td>\n",
       "      <td>Kajiado</td>\n",
       "      <td>Category A</td>\n",
       "      <td>High</td>\n",
       "      <td>5GXP+RM Kimana Kenya</td>\n",
       "      <td>5GXP+RM Kimana Kenya</td>\n",
       "      <td>37.536687</td>\n",
       "      <td>-2.800438</td>\n",
       "      <td>POINT (37.53669 -2.80044)</td>\n",
       "    </tr>\n",
       "    <tr>\n",
       "      <th>4</th>\n",
       "      <td>6</td>\n",
       "      <td>Esther Naserian Karanja</td>\n",
       "      <td>Kajiado</td>\n",
       "      <td>Category A</td>\n",
       "      <td>High</td>\n",
       "      <td>XM3W+3R Laset</td>\n",
       "      <td>XM3W+3R Laset   , Kenya</td>\n",
       "      <td>37.697063</td>\n",
       "      <td>-3.047312</td>\n",
       "      <td>POINT (37.69706 -3.04731)</td>\n",
       "    </tr>\n",
       "  </tbody>\n",
       "</table>\n",
       "</div>"
      ],
      "text/plain": [
       "   #               Distributors    County    Category  \\\n",
       "0  1      Plum Pharmacy Limited  Machakos  Category A   \n",
       "1  2                   Mwangaza   Mashuru  Category A   \n",
       "2  3  CHEP CHEP FARMERS AGROVET    Nakuru  Category A   \n",
       "3  4      DAMCHEM STORES-KIMANA   Kajiado  Category A   \n",
       "4  6    Esther Naserian Karanja   Kajiado  Category A   \n",
       "\n",
       "  Agrodealers Potential for Commercial Farms                    Locations  \\\n",
       "0                                       High      VG4W+76G A3 Matuu Kenya   \n",
       "1                                     Medium          V4WH+FQP Selengei     \n",
       "2                                       High  CM6P+98Q Olenguruone Kenya    \n",
       "3                                       High       5GXP+RM Kimana Kenya     \n",
       "4                                       High             XM3W+3R Laset      \n",
       "\n",
       "             Locations_cleaned  Longitude  Latitude                   geometry  \n",
       "0      VG4W+76G A3 Matuu Kenya  37.548118 -1.144339  POINT (37.54812 -1.14434)  \n",
       "1   V4WH+FQP Selengei  , Kenya  37.129453 -2.103788  POINT (37.12945 -2.10379)  \n",
       "2  CM6P+98Q Olenguruone Kenya   35.685859 -0.589037  POINT (35.68586 -0.58904)  \n",
       "3       5GXP+RM Kimana Kenya    37.536687 -2.800438  POINT (37.53669 -2.80044)  \n",
       "4      XM3W+3R Laset   , Kenya  37.697063 -3.047312  POINT (37.69706 -3.04731)  "
      ]
     },
     "execution_count": 4,
     "metadata": {},
     "output_type": "execute_result"
    }
   ],
   "source": [
    "gdf.head()"
   ]
  },
  {
   "cell_type": "code",
   "execution_count": 5,
   "metadata": {},
   "outputs": [
    {
     "data": {
      "text/html": [
       "\n",
       "            <style>\n",
       "                .geemap-dark {\n",
       "                    --jp-widgets-color: white;\n",
       "                    --jp-widgets-label-color: white;\n",
       "                    --jp-ui-font-color1: white;\n",
       "                    --jp-layout-color2: #454545;\n",
       "                    background-color: #383838;\n",
       "                }\n",
       "\n",
       "                .geemap-dark .jupyter-button {\n",
       "                    --jp-layout-color3: #383838;\n",
       "                }\n",
       "\n",
       "                .geemap-colab {\n",
       "                    background-color: var(--colab-primary-surface-color, white);\n",
       "                }\n",
       "\n",
       "                .geemap-colab .jupyter-button {\n",
       "                    --jp-layout-color3: var(--colab-primary-surface-color, white);\n",
       "                }\n",
       "            </style>\n",
       "            "
      ],
      "text/plain": [
       "<IPython.core.display.HTML object>"
      ]
     },
     "metadata": {},
     "output_type": "display_data"
    },
    {
     "data": {
      "text/plain": [
       "array(['Machakos', 'Mashuru', 'Nakuru', 'Kajiado', 'Bomet', None,\n",
       "       'Uasin Gishu', 'Trans Nzoia', 'Laikipia'], dtype=object)"
      ]
     },
     "execution_count": 5,
     "metadata": {},
     "output_type": "execute_result"
    }
   ],
   "source": [
    "gdf['County'].unique()"
   ]
  },
  {
   "cell_type": "markdown",
   "metadata": {},
   "source": [
    "The geolocations agree with the ones provided, except for a few incorrect labels."
   ]
  },
  {
   "cell_type": "code",
   "execution_count": 21,
   "metadata": {},
   "outputs": [
    {
     "data": {
      "text/html": [
       "\n",
       "            <style>\n",
       "                .geemap-dark {\n",
       "                    --jp-widgets-color: white;\n",
       "                    --jp-widgets-label-color: white;\n",
       "                    --jp-ui-font-color1: white;\n",
       "                    --jp-layout-color2: #454545;\n",
       "                    background-color: #383838;\n",
       "                }\n",
       "\n",
       "                .geemap-dark .jupyter-button {\n",
       "                    --jp-layout-color3: #383838;\n",
       "                }\n",
       "\n",
       "                .geemap-colab {\n",
       "                    background-color: var(--colab-primary-surface-color, white);\n",
       "                }\n",
       "\n",
       "                .geemap-colab .jupyter-button {\n",
       "                    --jp-layout-color3: var(--colab-primary-surface-color, white);\n",
       "                }\n",
       "            </style>\n",
       "            "
      ],
      "text/plain": [
       "<IPython.core.display.HTML object>"
      ]
     },
     "metadata": {},
     "output_type": "display_data"
    },
    {
     "data": {
      "application/vnd.plotly.v1+json": {
       "config": {
        "plotlyServerURL": "https://plot.ly"
       },
       "data": [
        {
         "hovertemplate": "<b>%{hovertext}</b><br><br>Category=Category A<br>Latitude=%{lat}<br>Longitude=%{lon}<extra></extra>",
         "hovertext": [
          "Plum Pharmacy Limited",
          "Mwangaza",
          "CHEP CHEP FARMERS AGROVET",
          "DAMCHEM STORES-KIMANA",
          "Esther Naserian Karanja",
          "Greengrove Agricare Ltd",
          "Mulot Vet Services",
          "MASHAMBANI FARM INPUTS",
          "Paves Vet Agro",
          "Solai Agrovet- Rumuruti"
         ],
         "lat": [
          -1.1443392,
          -2.1037875,
          -0.5890375,
          -2.8004375,
          -3.0473125,
          -0.7313124999999999,
          -0.9368124999999999,
          -0.5794374999999999,
          1.0199125,
          0.2580625
         ],
         "legendgroup": "Category A",
         "lon": [
          37.5481177,
          37.1294531,
          35.6858594,
          37.5366875,
          37.6970625,
          35.3459375,
          35.4339375,
          34.9349375,
          35.0211406,
          36.5353125
         ],
         "marker": {
          "color": "#636efa",
          "size": 15
         },
         "mode": "markers",
         "name": "Category A",
         "showlegend": true,
         "subplot": "mapbox",
         "type": "scattermapbox"
        }
       ],
       "layout": {
        "legend": {
         "title": {
          "text": "Category"
         },
         "tracegroupgap": 0
        },
        "mapbox": {
         "center": {
          "lat": -1.0654501699999999,
          "lon": 36.28684458
         },
         "domain": {
          "x": [
           0,
           1
          ],
          "y": [
           0,
           1
          ]
         },
         "style": "open-street-map",
         "zoom": 5
        },
        "margin": {
         "t": 60
        },
        "template": {
         "data": {
          "bar": [
           {
            "error_x": {
             "color": "#2a3f5f"
            },
            "error_y": {
             "color": "#2a3f5f"
            },
            "marker": {
             "line": {
              "color": "#E5ECF6",
              "width": 0.5
             },
             "pattern": {
              "fillmode": "overlay",
              "size": 10,
              "solidity": 0.2
             }
            },
            "type": "bar"
           }
          ],
          "barpolar": [
           {
            "marker": {
             "line": {
              "color": "#E5ECF6",
              "width": 0.5
             },
             "pattern": {
              "fillmode": "overlay",
              "size": 10,
              "solidity": 0.2
             }
            },
            "type": "barpolar"
           }
          ],
          "carpet": [
           {
            "aaxis": {
             "endlinecolor": "#2a3f5f",
             "gridcolor": "white",
             "linecolor": "white",
             "minorgridcolor": "white",
             "startlinecolor": "#2a3f5f"
            },
            "baxis": {
             "endlinecolor": "#2a3f5f",
             "gridcolor": "white",
             "linecolor": "white",
             "minorgridcolor": "white",
             "startlinecolor": "#2a3f5f"
            },
            "type": "carpet"
           }
          ],
          "choropleth": [
           {
            "colorbar": {
             "outlinewidth": 0,
             "ticks": ""
            },
            "type": "choropleth"
           }
          ],
          "contour": [
           {
            "colorbar": {
             "outlinewidth": 0,
             "ticks": ""
            },
            "colorscale": [
             [
              0,
              "#0d0887"
             ],
             [
              0.1111111111111111,
              "#46039f"
             ],
             [
              0.2222222222222222,
              "#7201a8"
             ],
             [
              0.3333333333333333,
              "#9c179e"
             ],
             [
              0.4444444444444444,
              "#bd3786"
             ],
             [
              0.5555555555555556,
              "#d8576b"
             ],
             [
              0.6666666666666666,
              "#ed7953"
             ],
             [
              0.7777777777777778,
              "#fb9f3a"
             ],
             [
              0.8888888888888888,
              "#fdca26"
             ],
             [
              1,
              "#f0f921"
             ]
            ],
            "type": "contour"
           }
          ],
          "contourcarpet": [
           {
            "colorbar": {
             "outlinewidth": 0,
             "ticks": ""
            },
            "type": "contourcarpet"
           }
          ],
          "heatmap": [
           {
            "colorbar": {
             "outlinewidth": 0,
             "ticks": ""
            },
            "colorscale": [
             [
              0,
              "#0d0887"
             ],
             [
              0.1111111111111111,
              "#46039f"
             ],
             [
              0.2222222222222222,
              "#7201a8"
             ],
             [
              0.3333333333333333,
              "#9c179e"
             ],
             [
              0.4444444444444444,
              "#bd3786"
             ],
             [
              0.5555555555555556,
              "#d8576b"
             ],
             [
              0.6666666666666666,
              "#ed7953"
             ],
             [
              0.7777777777777778,
              "#fb9f3a"
             ],
             [
              0.8888888888888888,
              "#fdca26"
             ],
             [
              1,
              "#f0f921"
             ]
            ],
            "type": "heatmap"
           }
          ],
          "heatmapgl": [
           {
            "colorbar": {
             "outlinewidth": 0,
             "ticks": ""
            },
            "colorscale": [
             [
              0,
              "#0d0887"
             ],
             [
              0.1111111111111111,
              "#46039f"
             ],
             [
              0.2222222222222222,
              "#7201a8"
             ],
             [
              0.3333333333333333,
              "#9c179e"
             ],
             [
              0.4444444444444444,
              "#bd3786"
             ],
             [
              0.5555555555555556,
              "#d8576b"
             ],
             [
              0.6666666666666666,
              "#ed7953"
             ],
             [
              0.7777777777777778,
              "#fb9f3a"
             ],
             [
              0.8888888888888888,
              "#fdca26"
             ],
             [
              1,
              "#f0f921"
             ]
            ],
            "type": "heatmapgl"
           }
          ],
          "histogram": [
           {
            "marker": {
             "pattern": {
              "fillmode": "overlay",
              "size": 10,
              "solidity": 0.2
             }
            },
            "type": "histogram"
           }
          ],
          "histogram2d": [
           {
            "colorbar": {
             "outlinewidth": 0,
             "ticks": ""
            },
            "colorscale": [
             [
              0,
              "#0d0887"
             ],
             [
              0.1111111111111111,
              "#46039f"
             ],
             [
              0.2222222222222222,
              "#7201a8"
             ],
             [
              0.3333333333333333,
              "#9c179e"
             ],
             [
              0.4444444444444444,
              "#bd3786"
             ],
             [
              0.5555555555555556,
              "#d8576b"
             ],
             [
              0.6666666666666666,
              "#ed7953"
             ],
             [
              0.7777777777777778,
              "#fb9f3a"
             ],
             [
              0.8888888888888888,
              "#fdca26"
             ],
             [
              1,
              "#f0f921"
             ]
            ],
            "type": "histogram2d"
           }
          ],
          "histogram2dcontour": [
           {
            "colorbar": {
             "outlinewidth": 0,
             "ticks": ""
            },
            "colorscale": [
             [
              0,
              "#0d0887"
             ],
             [
              0.1111111111111111,
              "#46039f"
             ],
             [
              0.2222222222222222,
              "#7201a8"
             ],
             [
              0.3333333333333333,
              "#9c179e"
             ],
             [
              0.4444444444444444,
              "#bd3786"
             ],
             [
              0.5555555555555556,
              "#d8576b"
             ],
             [
              0.6666666666666666,
              "#ed7953"
             ],
             [
              0.7777777777777778,
              "#fb9f3a"
             ],
             [
              0.8888888888888888,
              "#fdca26"
             ],
             [
              1,
              "#f0f921"
             ]
            ],
            "type": "histogram2dcontour"
           }
          ],
          "mesh3d": [
           {
            "colorbar": {
             "outlinewidth": 0,
             "ticks": ""
            },
            "type": "mesh3d"
           }
          ],
          "parcoords": [
           {
            "line": {
             "colorbar": {
              "outlinewidth": 0,
              "ticks": ""
             }
            },
            "type": "parcoords"
           }
          ],
          "pie": [
           {
            "automargin": true,
            "type": "pie"
           }
          ],
          "scatter": [
           {
            "fillpattern": {
             "fillmode": "overlay",
             "size": 10,
             "solidity": 0.2
            },
            "type": "scatter"
           }
          ],
          "scatter3d": [
           {
            "line": {
             "colorbar": {
              "outlinewidth": 0,
              "ticks": ""
             }
            },
            "marker": {
             "colorbar": {
              "outlinewidth": 0,
              "ticks": ""
             }
            },
            "type": "scatter3d"
           }
          ],
          "scattercarpet": [
           {
            "marker": {
             "colorbar": {
              "outlinewidth": 0,
              "ticks": ""
             }
            },
            "type": "scattercarpet"
           }
          ],
          "scattergeo": [
           {
            "marker": {
             "colorbar": {
              "outlinewidth": 0,
              "ticks": ""
             }
            },
            "type": "scattergeo"
           }
          ],
          "scattergl": [
           {
            "marker": {
             "colorbar": {
              "outlinewidth": 0,
              "ticks": ""
             }
            },
            "type": "scattergl"
           }
          ],
          "scattermapbox": [
           {
            "marker": {
             "colorbar": {
              "outlinewidth": 0,
              "ticks": ""
             }
            },
            "type": "scattermapbox"
           }
          ],
          "scatterpolar": [
           {
            "marker": {
             "colorbar": {
              "outlinewidth": 0,
              "ticks": ""
             }
            },
            "type": "scatterpolar"
           }
          ],
          "scatterpolargl": [
           {
            "marker": {
             "colorbar": {
              "outlinewidth": 0,
              "ticks": ""
             }
            },
            "type": "scatterpolargl"
           }
          ],
          "scatterternary": [
           {
            "marker": {
             "colorbar": {
              "outlinewidth": 0,
              "ticks": ""
             }
            },
            "type": "scatterternary"
           }
          ],
          "surface": [
           {
            "colorbar": {
             "outlinewidth": 0,
             "ticks": ""
            },
            "colorscale": [
             [
              0,
              "#0d0887"
             ],
             [
              0.1111111111111111,
              "#46039f"
             ],
             [
              0.2222222222222222,
              "#7201a8"
             ],
             [
              0.3333333333333333,
              "#9c179e"
             ],
             [
              0.4444444444444444,
              "#bd3786"
             ],
             [
              0.5555555555555556,
              "#d8576b"
             ],
             [
              0.6666666666666666,
              "#ed7953"
             ],
             [
              0.7777777777777778,
              "#fb9f3a"
             ],
             [
              0.8888888888888888,
              "#fdca26"
             ],
             [
              1,
              "#f0f921"
             ]
            ],
            "type": "surface"
           }
          ],
          "table": [
           {
            "cells": {
             "fill": {
              "color": "#EBF0F8"
             },
             "line": {
              "color": "white"
             }
            },
            "header": {
             "fill": {
              "color": "#C8D4E3"
             },
             "line": {
              "color": "white"
             }
            },
            "type": "table"
           }
          ]
         },
         "layout": {
          "annotationdefaults": {
           "arrowcolor": "#2a3f5f",
           "arrowhead": 0,
           "arrowwidth": 1
          },
          "autotypenumbers": "strict",
          "coloraxis": {
           "colorbar": {
            "outlinewidth": 0,
            "ticks": ""
           }
          },
          "colorscale": {
           "diverging": [
            [
             0,
             "#8e0152"
            ],
            [
             0.1,
             "#c51b7d"
            ],
            [
             0.2,
             "#de77ae"
            ],
            [
             0.3,
             "#f1b6da"
            ],
            [
             0.4,
             "#fde0ef"
            ],
            [
             0.5,
             "#f7f7f7"
            ],
            [
             0.6,
             "#e6f5d0"
            ],
            [
             0.7,
             "#b8e186"
            ],
            [
             0.8,
             "#7fbc41"
            ],
            [
             0.9,
             "#4d9221"
            ],
            [
             1,
             "#276419"
            ]
           ],
           "sequential": [
            [
             0,
             "#0d0887"
            ],
            [
             0.1111111111111111,
             "#46039f"
            ],
            [
             0.2222222222222222,
             "#7201a8"
            ],
            [
             0.3333333333333333,
             "#9c179e"
            ],
            [
             0.4444444444444444,
             "#bd3786"
            ],
            [
             0.5555555555555556,
             "#d8576b"
            ],
            [
             0.6666666666666666,
             "#ed7953"
            ],
            [
             0.7777777777777778,
             "#fb9f3a"
            ],
            [
             0.8888888888888888,
             "#fdca26"
            ],
            [
             1,
             "#f0f921"
            ]
           ],
           "sequentialminus": [
            [
             0,
             "#0d0887"
            ],
            [
             0.1111111111111111,
             "#46039f"
            ],
            [
             0.2222222222222222,
             "#7201a8"
            ],
            [
             0.3333333333333333,
             "#9c179e"
            ],
            [
             0.4444444444444444,
             "#bd3786"
            ],
            [
             0.5555555555555556,
             "#d8576b"
            ],
            [
             0.6666666666666666,
             "#ed7953"
            ],
            [
             0.7777777777777778,
             "#fb9f3a"
            ],
            [
             0.8888888888888888,
             "#fdca26"
            ],
            [
             1,
             "#f0f921"
            ]
           ]
          },
          "colorway": [
           "#636efa",
           "#EF553B",
           "#00cc96",
           "#ab63fa",
           "#FFA15A",
           "#19d3f3",
           "#FF6692",
           "#B6E880",
           "#FF97FF",
           "#FECB52"
          ],
          "font": {
           "color": "#2a3f5f"
          },
          "geo": {
           "bgcolor": "white",
           "lakecolor": "white",
           "landcolor": "#E5ECF6",
           "showlakes": true,
           "showland": true,
           "subunitcolor": "white"
          },
          "hoverlabel": {
           "align": "left"
          },
          "hovermode": "closest",
          "mapbox": {
           "style": "light"
          },
          "paper_bgcolor": "white",
          "plot_bgcolor": "#E5ECF6",
          "polar": {
           "angularaxis": {
            "gridcolor": "white",
            "linecolor": "white",
            "ticks": ""
           },
           "bgcolor": "#E5ECF6",
           "radialaxis": {
            "gridcolor": "white",
            "linecolor": "white",
            "ticks": ""
           }
          },
          "scene": {
           "xaxis": {
            "backgroundcolor": "#E5ECF6",
            "gridcolor": "white",
            "gridwidth": 2,
            "linecolor": "white",
            "showbackground": true,
            "ticks": "",
            "zerolinecolor": "white"
           },
           "yaxis": {
            "backgroundcolor": "#E5ECF6",
            "gridcolor": "white",
            "gridwidth": 2,
            "linecolor": "white",
            "showbackground": true,
            "ticks": "",
            "zerolinecolor": "white"
           },
           "zaxis": {
            "backgroundcolor": "#E5ECF6",
            "gridcolor": "white",
            "gridwidth": 2,
            "linecolor": "white",
            "showbackground": true,
            "ticks": "",
            "zerolinecolor": "white"
           }
          },
          "shapedefaults": {
           "line": {
            "color": "#2a3f5f"
           }
          },
          "ternary": {
           "aaxis": {
            "gridcolor": "white",
            "linecolor": "white",
            "ticks": ""
           },
           "baxis": {
            "gridcolor": "white",
            "linecolor": "white",
            "ticks": ""
           },
           "bgcolor": "#E5ECF6",
           "caxis": {
            "gridcolor": "white",
            "linecolor": "white",
            "ticks": ""
           }
          },
          "title": {
           "x": 0.05
          },
          "xaxis": {
           "automargin": true,
           "gridcolor": "white",
           "linecolor": "white",
           "ticks": "",
           "title": {
            "standoff": 15
           },
           "zerolinecolor": "white",
           "zerolinewidth": 2
          },
          "yaxis": {
           "automargin": true,
           "gridcolor": "white",
           "linecolor": "white",
           "ticks": "",
           "title": {
            "standoff": 15
           },
           "zerolinecolor": "white",
           "zerolinewidth": 2
          }
         }
        }
       }
      }
     },
     "metadata": {},
     "output_type": "display_data"
    }
   ],
   "source": [
    "fig = px.scatter_mapbox(\n",
    "    gdf, lat='Latitude', lon='Longitude', color='Category', hover_name='Distributors', zoom=5\n",
    ")\n",
    "fig.update_layout(mapbox_style='open-street-map')\n",
    "fig.update_traces(marker={'size': 15})\n",
    "fig.show()"
   ]
  },
  {
   "cell_type": "markdown",
   "metadata": {},
   "source": [
    "## Create feature and image collections\n",
    "\n",
    "Before exporting the images to Google Drive, we first combine all the coordinates and images into ```ee.FeatureCollection()``` and ```ee.ImageCollection()``` objects. The `FeatureCollection` contains all the coordinates along with the distributor names while the `ImageCollection` contains all the cloud-masked, median composites within the buffer zone of each location."
   ]
  },
  {
   "cell_type": "code",
   "execution_count": 22,
   "metadata": {},
   "outputs": [
    {
     "data": {
      "text/html": [
       "\n",
       "            <style>\n",
       "                .geemap-dark {\n",
       "                    --jp-widgets-color: white;\n",
       "                    --jp-widgets-label-color: white;\n",
       "                    --jp-ui-font-color1: white;\n",
       "                    --jp-layout-color2: #454545;\n",
       "                    background-color: #383838;\n",
       "                }\n",
       "\n",
       "                .geemap-dark .jupyter-button {\n",
       "                    --jp-layout-color3: #383838;\n",
       "                }\n",
       "\n",
       "                .geemap-colab {\n",
       "                    background-color: var(--colab-primary-surface-color, white);\n",
       "                }\n",
       "\n",
       "                .geemap-colab .jupyter-button {\n",
       "                    --jp-layout-color3: var(--colab-primary-surface-color, white);\n",
       "                }\n",
       "            </style>\n",
       "            "
      ],
      "text/plain": [
       "<IPython.core.display.HTML object>"
      ]
     },
     "metadata": {},
     "output_type": "display_data"
    }
   ],
   "source": [
    "def generate_feature_collection(gdf: gpd.GeoDataFrame) -> ee.FeatureCollection:\n",
    "    ''' \n",
    "    This function generates an ee.FeatureCollection() object. It takes in the geopandas dataframe\n",
    "    as input and extracts longitude, latitude information along with distributor names. Then,\n",
    "    these are converted to ee.Feature() objects and finally returned as a collection.\n",
    "\n",
    "    Args: geopandas dataframe with longitude and latitude information\n",
    "    Returns: ee.FeatureCollection() object with distributor coordinates to be used as the center of region's buffer\n",
    "    '''\n",
    "    # Extract longitude, latitude and distributors from dataframe\n",
    "    longitudes = gdf['Longitude'].tolist()\n",
    "    latitudes = gdf['Latitude'].tolist()\n",
    "    distributors = gdf['Distributors'].tolist()\n",
    "\n",
    "    # Create a nested list of coordinates and clean the distributor names\n",
    "    coord_list = [[lon, lat] for lon, lat in zip(longitudes, latitudes)]\n",
    "    distributors_list = [distributor.lower().replace(' ', '_') for distributor in distributors]\n",
    "\n",
    "    point_collection = []\n",
    "\n",
    "    for i in range(len(longitudes)):\n",
    "        coords = coord_list[i]\n",
    "        point = ee.Geometry.Point(coords)\n",
    "        feature = ee.Feature(point, {'name': distributors_list[i]})\n",
    "        point_collection.append(feature)\n",
    "\n",
    "    return ee.FeatureCollection(point_collection) \n",
    "\n",
    "def get_ndvi(img: ee.Image) -> ee.Image:\n",
    "    ''' \n",
    "    This function computes the NDVI of an image and adds it as a new band.\n",
    "\n",
    "    Args: ee.Image() object\n",
    "    Returns: same ee.Image() object with an additional `NDVI` band\n",
    "    '''\n",
    "    ndvi = img.normalizedDifference(['B8', 'B4']).rename('NDVI')\n",
    "    return img.addBands(ndvi)\n",
    "\n",
    "def get_evi(img: ee.Image) -> ee.Image:\n",
    "    ''' \n",
    "    This function computes the EVI of an image and adds it as a new band.\n",
    "\n",
    "    Args: ee.Image() object\n",
    "    Returns: same ee.Image() object with an additional `NDVI` band\n",
    "    '''\n",
    "    evi = img.expression(\n",
    "        '2.5 * ((NIR - RED) / (NIR + 6 * RED - 7.5 * BLUE + 1))', {\n",
    "            'NIR': img.select('B8'),\n",
    "            'RED': img.select('B4'),\n",
    "            'BLUE': img.select('B2')\n",
    "        }\n",
    "    ).rename('EVI')\n",
    "    return img.addBands(evi)\n",
    "\n",
    "def spectral_transform(img: ee.Image, hsv_v: str) -> ee.Image:\n",
    "    ''' \n",
    "    This function takes in an RGB image as input and returns a spectral transformed counterpart. It does so\n",
    "    by transforming the RGB image into HSV space, where HSV stands for `Hue`, `Saturation` and `Value` (in this\n",
    "    case, `Value` is either NDVI or EVI). \n",
    "    '''\n",
    "    rgb_img = img.select(['B4', 'B3', 'B2'])\n",
    "\n",
    "    if hsv_v == 'NDVI':\n",
    "        rgb_img_v = get_ndvi(img)\n",
    "\n",
    "    elif hsv_v == 'EVI':\n",
    "        rgb_img_v = get_evi(img)\n",
    "\n",
    "    else:\n",
    "        raise ValueError(f'Unsupported value type: {hsv_v}')\n",
    "\n",
    "    hsv_img = rgb_img.rgbToHsv()\n",
    "\n",
    "    transformed_img = ee.Image.cat(\n",
    "        [\n",
    "            hsv_img.select('hue'),\n",
    "            hsv_img.select('saturation'),\n",
    "            rgb_img_v.select(hsv_v)\n",
    "        ]\n",
    "    ).hsvToRgb()\n",
    "\n",
    "    return transformed_img\n",
    "\n",
    "def generate_image_collection(\n",
    "        feature_collection: ee.FeatureCollection,\n",
    "        img_type: str = 'rgb',\n",
    "        buffer: float = 1.5e4\n",
    "    ) -> ee.ImageCollection:\n",
    "    ''' \n",
    "    This function generates an ee.ImageCollection() object. It takes in the list of coordinates \n",
    "    as a ee.FeatureCollection() object. It then iterates over each feature in the collection,\n",
    "    applying the s2cloudless function and generating the median composite. Then, the list of all\n",
    "    images is converted to an ee.ImageCollection() object.\n",
    "\n",
    "    Args: (i) feature_collection - ee.FeatureCollection() object with all the distributor location coordinates\n",
    "          (ii) img_type -  argument for the type of image required; img_type can be `rgb`, `false`, `ndvi` and `evi`;\n",
    "                           defaults to `rgb`\n",
    "          (iii) buffer - size of the buffer zone around the distributor location in meters; defaults to 15000 m (15 km)\n",
    "    Returns: ee.ImageCollection() object containing images within the buffer around each location at the required band(s)\n",
    "    '''\n",
    "    img_collection = []\n",
    "    N = feature_collection.size().getInfo() # image_collection size\n",
    "    for i in range(N):\n",
    "        coords = feature_collection.getInfo()['features'][i]['geometry']['coordinates']\n",
    "        AOI = ee.Geometry.Point(coords).buffer(buffer).bounds()\n",
    "        s2_sr_median = s2cloudless(AOI)\n",
    "\n",
    "        if img_type == 'rgb':\n",
    "            band_list = ['B4', 'B3', 'B2'] # true color band list\n",
    "            rgb_img = s2_sr_median.select(band_list)\n",
    "            img_collection.append(rgb_img)\n",
    "\n",
    "        elif img_type == 'false':\n",
    "            band_list = ['B8', 'B4', 'B3'] # false color band list\n",
    "            false_img = s2_sr_median.select(band_list)\n",
    "            img_collection.append(s2_sr_median.select(false_img))\n",
    "\n",
    "        elif img_type == 'ndvi':\n",
    "            ndvi_img = get_ndvi(s2_sr_median).select('NDVI')\n",
    "            img_collection.append(ndvi_img)\n",
    "\n",
    "        elif img_type == 'hsv-NDVI':\n",
    "            hsv_img = spectral_transform(s2_sr_median, 'NDVI')\n",
    "            img_collection.append(hsv_img)\n",
    "\n",
    "        elif img_type == 'hsv-EVI':\n",
    "            hsv_img = spectral_transform(s2_sr_median, 'EVI')\n",
    "            img_collection.append(hsv_img)\n",
    "\n",
    "        else:\n",
    "            raise ValueError(f'Unsupported image type: {img_type}')\n",
    "        \n",
    "    return ee.ImageCollection(img_collection)"
   ]
  },
  {
   "cell_type": "markdown",
   "metadata": {},
   "source": [
    "## Create export function"
   ]
  },
  {
   "cell_type": "code",
   "execution_count": 8,
   "metadata": {},
   "outputs": [
    {
     "data": {
      "text/html": [
       "\n",
       "            <style>\n",
       "                .geemap-dark {\n",
       "                    --jp-widgets-color: white;\n",
       "                    --jp-widgets-label-color: white;\n",
       "                    --jp-ui-font-color1: white;\n",
       "                    --jp-layout-color2: #454545;\n",
       "                    background-color: #383838;\n",
       "                }\n",
       "\n",
       "                .geemap-dark .jupyter-button {\n",
       "                    --jp-layout-color3: #383838;\n",
       "                }\n",
       "\n",
       "                .geemap-colab {\n",
       "                    background-color: var(--colab-primary-surface-color, white);\n",
       "                }\n",
       "\n",
       "                .geemap-colab .jupyter-button {\n",
       "                    --jp-layout-color3: var(--colab-primary-surface-color, white);\n",
       "                }\n",
       "            </style>\n",
       "            "
      ],
      "text/plain": [
       "<IPython.core.display.HTML object>"
      ]
     },
     "metadata": {},
     "output_type": "display_data"
    }
   ],
   "source": [
    "def export_img_col(\n",
    "        img_col: ee.ImageCollection,\n",
    "        feature_col: ee.FeatureCollection,\n",
    "        export_folder: str,\n",
    "        vis_params: dict,\n",
    "        img_type: str = 'rgb',\n",
    "        buffer: float = 1.5e4\n",
    ") -> None:\n",
    "    ''' \n",
    "    This function takes in an image collection, feature collection and other parameters and\n",
    "    exports all the images in the collection iteratively. The images are exported as GeoTIFF\n",
    "    files in the WGS 84 format.\n",
    "\n",
    "    Args: (i) img_col - ee.ImageCollection() object containing the images to be exported\n",
    "          (ii) feature_col - ee.FeatureCollection() object containing distributor locations and\n",
    "                             names as additional data\n",
    "          (iii) export_folder - name of Google Drive folder where images are to be exported\n",
    "          (iV) vis_params - a dictionary containing visualization parameters for image export\n",
    "          (v) img_type - type of image to be exported; defaults to `rgb`\n",
    "          (vi) buffer - size of buffer for clipping; defaults to 15 km\n",
    "    Returns: None\n",
    "    '''\n",
    "    # Convert the image collection into a list of images\n",
    "    N = img_col.size().getInfo()\n",
    "    img_list = img_col.toList(N)\n",
    "\n",
    "    for i in range(N):\n",
    "        img = ee.Image(img_list.get(i))\n",
    "\n",
    "        # Get name of distributor contained in feature collection\n",
    "        dist_name = feature_col.getInfo()['features'][i]['properties']['name']\n",
    "        coords = feature_col.getInfo()['features'][i]['geometry']['coordinates']\n",
    "        AOI = ee.Geometry.Point(coords).buffer(buffer).bounds()\n",
    "\n",
    "        img_vis = img.visualize(**vis_params)\n",
    "        export_params = {\n",
    "                'image': img_vis,\n",
    "                'description': dist_name + '_' + img_type,\n",
    "                'folder': export_folder,\n",
    "                'crs': 'EPSG:4326',\n",
    "                'fileFormat': 'GeoTIFF',\n",
    "                'scale': 10,\n",
    "                'region': AOI.getInfo()['coordinates'],\n",
    "                'maxPixels' : 1e9\n",
    "            }\n",
    "\n",
    "        task = ee.batch.Export.image.toDrive(**export_params)\n",
    "        task.start()"
   ]
  },
  {
   "cell_type": "code",
   "execution_count": 23,
   "metadata": {},
   "outputs": [
    {
     "data": {
      "text/html": [
       "\n",
       "            <style>\n",
       "                .geemap-dark {\n",
       "                    --jp-widgets-color: white;\n",
       "                    --jp-widgets-label-color: white;\n",
       "                    --jp-ui-font-color1: white;\n",
       "                    --jp-layout-color2: #454545;\n",
       "                    background-color: #383838;\n",
       "                }\n",
       "\n",
       "                .geemap-dark .jupyter-button {\n",
       "                    --jp-layout-color3: #383838;\n",
       "                }\n",
       "\n",
       "                .geemap-colab {\n",
       "                    background-color: var(--colab-primary-surface-color, white);\n",
       "                }\n",
       "\n",
       "                .geemap-colab .jupyter-button {\n",
       "                    --jp-layout-color3: var(--colab-primary-surface-color, white);\n",
       "                }\n",
       "            </style>\n",
       "            "
      ],
      "text/plain": [
       "<IPython.core.display.HTML object>"
      ]
     },
     "metadata": {},
     "output_type": "display_data"
    }
   ],
   "source": [
    "# collection of distributor locations and names \n",
    "feature_col = generate_feature_collection(gdf)\n",
    "\n",
    "hsv_img_col = generate_image_collection(feature_col, img_type='hsv-EVI')"
   ]
  },
  {
   "cell_type": "code",
   "execution_count": 10,
   "metadata": {},
   "outputs": [
    {
     "data": {
      "text/html": [
       "\n",
       "            <style>\n",
       "                .geemap-dark {\n",
       "                    --jp-widgets-color: white;\n",
       "                    --jp-widgets-label-color: white;\n",
       "                    --jp-ui-font-color1: white;\n",
       "                    --jp-layout-color2: #454545;\n",
       "                    background-color: #383838;\n",
       "                }\n",
       "\n",
       "                .geemap-dark .jupyter-button {\n",
       "                    --jp-layout-color3: #383838;\n",
       "                }\n",
       "\n",
       "                .geemap-colab {\n",
       "                    background-color: var(--colab-primary-surface-color, white);\n",
       "                }\n",
       "\n",
       "                .geemap-colab .jupyter-button {\n",
       "                    --jp-layout-color3: var(--colab-primary-surface-color, white);\n",
       "                }\n",
       "            </style>\n",
       "            "
      ],
      "text/plain": [
       "<IPython.core.display.HTML object>"
      ]
     },
     "metadata": {},
     "output_type": "display_data"
    }
   ],
   "source": [
    "vis_params = {'min': 0, 'max': 1.0}\n",
    "\n",
    "export_img_col(\n",
    "    hsv_img_col,\n",
    "    feature_col,\n",
    "    'imagery',\n",
    "    vis_params,\n",
    "    img_type='hsv-EVI'\n",
    ")"
   ]
  },
  {
   "cell_type": "code",
   "execution_count": null,
   "metadata": {},
   "outputs": [],
   "source": []
  }
 ],
 "metadata": {
  "kernelspec": {
   "display_name": "base",
   "language": "python",
   "name": "python3"
  },
  "language_info": {
   "codemirror_mode": {
    "name": "ipython",
    "version": 3
   },
   "file_extension": ".py",
   "mimetype": "text/x-python",
   "name": "python",
   "nbconvert_exporter": "python",
   "pygments_lexer": "ipython3",
   "version": "3.11.8"
  }
 },
 "nbformat": 4,
 "nbformat_minor": 2
}
